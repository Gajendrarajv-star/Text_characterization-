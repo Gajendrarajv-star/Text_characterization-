{
 "cells": [
  {
   "cell_type": "markdown",
   "id": "6e568afd",
   "metadata": {},
   "source": [
    "## Project Name : Text Characterization using Speech Recognition"
   ]
  },
  {
   "cell_type": "markdown",
   "id": "2526ebe8",
   "metadata": {},
   "source": [
    "#### In this project we will see how we can use Speech Recognition librarties to characterize audio speech files by importing or by just saying them. We will see how we can perform different operations on a speech to text converted data."
   ]
  },
  {
   "cell_type": "markdown",
   "id": "a412da18",
   "metadata": {},
   "source": [
    "### Time Line of the project :\n",
    "- Importing Libraries\n",
    "- Using Speech Recognition \n",
    "- Observing the audio data\n",
    "- Analyzing the lyrics of a song"
   ]
  },
  {
   "cell_type": "code",
   "execution_count": 1,
   "id": "4ae72d09",
   "metadata": {},
   "outputs": [
    {
     "name": "stdout",
     "output_type": "stream",
     "text": [
      "Requirement already satisfied: SpeechRecognition in c:\\users\\gajen\\appdata\\local\\programs\\python\\python312\\lib\\site-packages (3.10.4)\n",
      "Requirement already satisfied: requests>=2.26.0 in c:\\users\\gajen\\appdata\\local\\programs\\python\\python312\\lib\\site-packages (from SpeechRecognition) (2.32.3)\n",
      "Requirement already satisfied: typing-extensions in c:\\users\\gajen\\appdata\\local\\programs\\python\\python312\\lib\\site-packages (from SpeechRecognition) (4.12.2)\n",
      "Requirement already satisfied: charset-normalizer<4,>=2 in c:\\users\\gajen\\appdata\\local\\programs\\python\\python312\\lib\\site-packages (from requests>=2.26.0->SpeechRecognition) (3.3.2)\n",
      "Requirement already satisfied: idna<4,>=2.5 in c:\\users\\gajen\\appdata\\local\\programs\\python\\python312\\lib\\site-packages (from requests>=2.26.0->SpeechRecognition) (3.7)\n",
      "Requirement already satisfied: urllib3<3,>=1.21.1 in c:\\users\\gajen\\appdata\\local\\programs\\python\\python312\\lib\\site-packages (from requests>=2.26.0->SpeechRecognition) (2.2.2)\n",
      "Requirement already satisfied: certifi>=2017.4.17 in c:\\users\\gajen\\appdata\\local\\programs\\python\\python312\\lib\\site-packages (from requests>=2.26.0->SpeechRecognition) (2024.7.4)\n",
      "Note: you may need to restart the kernel to use updated packages.\n"
     ]
    }
   ],
   "source": [
    "pip install SpeechRecognition\n"
   ]
  },
  {
   "cell_type": "code",
   "execution_count": 2,
   "id": "010866e8",
   "metadata": {},
   "outputs": [],
   "source": [
    "import pandas as pd \n",
    "import numpy as np\n",
    "import speech_recognition as sr"
   ]
  },
  {
   "cell_type": "code",
   "execution_count": 3,
   "id": "9adbf6ee",
   "metadata": {},
   "outputs": [],
   "source": [
    "import IPython.display as ipd"
   ]
  },
  {
   "cell_type": "code",
   "execution_count": 4,
   "id": "7a6e2b86",
   "metadata": {},
   "outputs": [
    {
     "data": {
      "text/plain": [
       "speech_recognition.AudioFile"
      ]
     },
     "execution_count": 4,
     "metadata": {},
     "output_type": "execute_result"
    }
   ],
   "source": [
    "recognizer = sr.Recognizer()\n",
    "audio_file = sr.AudioFile(\"voice-data.wav\")\n",
    "type(audio_file)"
   ]
  },
  {
   "cell_type": "markdown",
   "id": "49387783",
   "metadata": {},
   "source": [
    "### APIs : There are various APIs present which does the Speech To Text Conversion. Different APIs are :\n",
    "- IBM Speech TO Text\n",
    "- CMU SPhinx\n",
    "- Google Web Speech API (Recognize Google)\n",
    "- Google Cloud Speech \n",
    "And more"
   ]
  },
  {
   "cell_type": "markdown",
   "id": "646e7adb",
   "metadata": {},
   "source": [
    "### Google Web Speech API : "
   ]
  },
  {
   "cell_type": "markdown",
   "id": "d777869c",
   "metadata": {},
   "source": [
    "This is a free web service provided by Google i.e. Recognize Google, through which we can convert audio speech files to text and perform operations on them."
   ]
  },
  {
   "cell_type": "code",
   "execution_count": 5,
   "id": "e4ec2b1b",
   "metadata": {},
   "outputs": [],
   "source": [
    "with audio_file as source:\n",
    "    audio_file = recognizer.record(source)\n",
    "    result=recognizer.recognize_google(audio_data=audio_file)"
   ]
  },
  {
   "cell_type": "markdown",
   "id": "9234d735",
   "metadata": {},
   "source": [
    "There are two types of taking input :\n",
    "\n",
    "1) Duration : This is used to select a specific time of audio data i.e. if you want to select just 5 seconds then you can set Duration= 5 and it will only select the 5 seconds of audio file"
   ]
  },
  {
   "cell_type": "code",
   "execution_count": 6,
   "id": "7c5c4533",
   "metadata": {},
   "outputs": [],
   "source": [
    "audio_file_path = 'voice-data.wav'\n",
    "\n",
    "# Open the audio file\n",
    "with sr.AudioFile(audio_file_path) as source:\n",
    "    audio_file_path = recognizer.record(source, duration = 5.0)\n",
    "    result1 = recognizer.recognize_google(audio_data=audio_file_path) "
   ]
  },
  {
   "cell_type": "markdown",
   "id": "96fb7887",
   "metadata": {},
   "source": [
    "2) Offset : This is used when you cut out some part of the starting data from your audio file i.e. if you don't want first 2 seconds then you can select offset as 2 and it will skip the first two seconds."
   ]
  },
  {
   "cell_type": "code",
   "execution_count": 7,
   "id": "253639a2",
   "metadata": {},
   "outputs": [],
   "source": [
    "audio_file1 = 'voice-data.wav'\n",
    "\n",
    "# Open the audio file\n",
    "with sr.AudioFile(audio_file1) as source:\n",
    "    audio_file1 = recognizer.record(source, offset = 2.0)\n",
    "    result2 = recognizer.recognize_google(audio_data=audio_file1)"
   ]
  },
  {
   "cell_type": "markdown",
   "id": "5d0a0a88",
   "metadata": {},
   "source": [
    "Combining both"
   ]
  },
  {
   "cell_type": "code",
   "execution_count": 8,
   "id": "b66c844b",
   "metadata": {},
   "outputs": [],
   "source": [
    "audio_file2 = 'voice-data.wav'\n",
    "\n",
    "# Open the audio file\n",
    "with sr.AudioFile(audio_file2) as source:\n",
    "    audio_file2 = recognizer.record(source, duration= 5.0, offset = 2.0)\n",
    "    result3 = recognizer.recognize_google(audio_data=audio_file2)"
   ]
  },
  {
   "cell_type": "markdown",
   "id": "7ef6e667",
   "metadata": {},
   "source": [
    "Comparing all the results"
   ]
  },
  {
   "cell_type": "code",
   "execution_count": 9,
   "id": "34695004",
   "metadata": {},
   "outputs": [
    {
     "name": "stdout",
     "output_type": "stream",
     "text": [
      "would you be then you know locking this meeting in so that we don't have more participants because once the division of team is done in stuff like that what does it what is it ok if people if more people join in the game of the game and stuff like that most people would know about it so we playing code names guys it's a fun board game just enjoy yourself understand most of you will be joining us cooperative society\n",
      "then would you be then\n",
      "would you be then you know locking this meeting in so that we don't have more participants because once the division of team is done in stuff like that what does it what is it ok people if more people join in the game I think people why don't we start rules of the game and stuff like that most people would know about it so we playing code names guys it's a fun board game just enjoy yourself understand most of you will be joining us operations will be joining as operator\n",
      "would you be then you know lock\n"
     ]
    }
   ],
   "source": [
    "print(result)\n",
    "print(result1)\n",
    "print(result2)\n",
    "print(result3)"
   ]
  },
  {
   "cell_type": "markdown",
   "id": "bc7a9b47",
   "metadata": {},
   "source": [
    "#### Effect of Noise"
   ]
  },
  {
   "cell_type": "markdown",
   "id": "7a7d0b88",
   "metadata": {},
   "source": [
    "Noise in the backgroud data can create disturbances or error in the results hence it is necessary to remove the noise from the audio file"
   ]
  },
  {
   "cell_type": "code",
   "execution_count": 10,
   "id": "30fdca18",
   "metadata": {},
   "outputs": [],
   "source": [
    "audio_file2 = 'voice-data.wav'\n",
    "\n",
    "# Open the audio file\n",
    "with sr.AudioFile(audio_file2) as source:\n",
    "    recognizer.adjust_for_ambient_noise(source, duration=0.5)\n",
    "    audio = recognizer.record(source)\n",
    "\n",
    "result4= recognizer.recognize_google(audio)"
   ]
  },
  {
   "cell_type": "code",
   "execution_count": 11,
   "id": "f60ae68b",
   "metadata": {},
   "outputs": [
    {
     "name": "stdout",
     "output_type": "stream",
     "text": [
      "awesome OK then you know locking this meeting in so that we don't have more participants because one of the division of team is done in stuff like that ok what does it what is it ok people if more people join in the game I think we have about 18 people why don't we start rules of the game and stuff like that most people would know about it so we playing code names guys it's a fun board game just enjoy yourself don't understand how many of you know the games and most of you will be joining as Cooperative you can see operators here so both of the things will be joining as operator\n"
     ]
    }
   ],
   "source": [
    "print(result4)"
   ]
  },
  {
   "cell_type": "code",
   "execution_count": 12,
   "id": "a2d8dbb5",
   "metadata": {},
   "outputs": [],
   "source": [
    "result_str= result.split(' ')"
   ]
  },
  {
   "cell_type": "code",
   "execution_count": 13,
   "id": "5d0f45cd",
   "metadata": {},
   "outputs": [
    {
     "data": {
      "text/plain": [
       "['would',\n",
       " 'you',\n",
       " 'be',\n",
       " 'then',\n",
       " 'you',\n",
       " 'know',\n",
       " 'locking',\n",
       " 'this',\n",
       " 'meeting',\n",
       " 'in',\n",
       " 'so',\n",
       " 'that',\n",
       " 'we',\n",
       " \"don't\",\n",
       " 'have',\n",
       " 'more',\n",
       " 'participants',\n",
       " 'because',\n",
       " 'once',\n",
       " 'the',\n",
       " 'division',\n",
       " 'of',\n",
       " 'team',\n",
       " 'is',\n",
       " 'done',\n",
       " 'in',\n",
       " 'stuff',\n",
       " 'like',\n",
       " 'that',\n",
       " 'what',\n",
       " 'does',\n",
       " 'it',\n",
       " 'what',\n",
       " 'is',\n",
       " 'it',\n",
       " 'ok',\n",
       " 'if',\n",
       " 'people',\n",
       " 'if',\n",
       " 'more',\n",
       " 'people',\n",
       " 'join',\n",
       " 'in',\n",
       " 'the',\n",
       " 'game',\n",
       " 'of',\n",
       " 'the',\n",
       " 'game',\n",
       " 'and',\n",
       " 'stuff',\n",
       " 'like',\n",
       " 'that',\n",
       " 'most',\n",
       " 'people',\n",
       " 'would',\n",
       " 'know',\n",
       " 'about',\n",
       " 'it',\n",
       " 'so',\n",
       " 'we',\n",
       " 'playing',\n",
       " 'code',\n",
       " 'names',\n",
       " 'guys',\n",
       " \"it's\",\n",
       " 'a',\n",
       " 'fun',\n",
       " 'board',\n",
       " 'game',\n",
       " 'just',\n",
       " 'enjoy',\n",
       " 'yourself',\n",
       " 'understand',\n",
       " 'most',\n",
       " 'of',\n",
       " 'you',\n",
       " 'will',\n",
       " 'be',\n",
       " 'joining',\n",
       " 'us',\n",
       " 'cooperative',\n",
       " 'society']"
      ]
     },
     "execution_count": 13,
     "metadata": {},
     "output_type": "execute_result"
    }
   ],
   "source": [
    "result_str"
   ]
  },
  {
   "cell_type": "code",
   "execution_count": 14,
   "id": "49991b0c",
   "metadata": {},
   "outputs": [
    {
     "name": "stdout",
     "output_type": "stream",
     "text": [
      "['would', 'you', 'be', 'then', 'you', 'know', 'locking', 'this', 'meeting', 'in', 'so', 'that', 'we', \"don't\", 'have', 'more', 'participants', 'because', 'once', 'the', 'division', 'of', 'team', 'is', 'done', 'in', 'stuff', 'like', 'that', 'what', 'does', 'it', 'what', 'is', 'it', 'ok', 'if', 'people', 'if', 'more', 'people', 'join', 'in', 'the', 'game', 'of', 'the', 'game', 'and', 'stuff', 'like', 'that', 'most', 'people', 'would', 'know', 'about', 'it', 'so', 'we', 'playing', 'code', 'names', 'guys', \"it's\", 'a', 'fun', 'board', 'game', 'just', 'enjoy', 'yourself', 'understand', 'most', 'of', 'you', 'will', 'be', 'joining', 'us', 'cooperative', 'society']\n"
     ]
    }
   ],
   "source": [
    "print(result_str)"
   ]
  },
  {
   "cell_type": "markdown",
   "id": "5d28d8e5",
   "metadata": {},
   "source": [
    "#### Different number of words used?"
   ]
  },
  {
   "cell_type": "code",
   "execution_count": 15,
   "id": "24e70694",
   "metadata": {},
   "outputs": [
    {
     "name": "stdout",
     "output_type": "stream",
     "text": [
      "{'guys', 'know', 'have', 'that', 'team', 'then', 'most', 'so', \"don't\", 'is', 'playing', 'done', 'ok', 'be', 'if', 'more', 'once', 'us', 'society', 'just', 'understand', 'names', 'we', 'joining', 'board', 'it', 'the', 'about', 'join', 'code', \"it's\", 'will', 'cooperative', 'a', 'what', 'people', 'yourself', 'because', 'division', 'locking', 'participants', 'like', 'enjoy', 'does', 'game', 'you', 'of', 'would', 'fun', 'and', 'in', 'stuff', 'meeting', 'this'}\n"
     ]
    }
   ],
   "source": [
    "unique_words = set(result_str)\n",
    "print(unique_words)"
   ]
  },
  {
   "cell_type": "code",
   "execution_count": 16,
   "id": "ef54ae19",
   "metadata": {},
   "outputs": [
    {
     "name": "stdout",
     "output_type": "stream",
     "text": [
      "The number of different words used:  54\n"
     ]
    }
   ],
   "source": [
    "print(\"The number of different words used: \",len(unique_words))"
   ]
  },
  {
   "cell_type": "markdown",
   "id": "c78d0d80",
   "metadata": {},
   "source": [
    "#### Count the repetition of words"
   ]
  },
  {
   "cell_type": "markdown",
   "id": "e4a47407",
   "metadata": {},
   "source": [
    "First we will store the unique words in a dictionary"
   ]
  },
  {
   "cell_type": "code",
   "execution_count": 17,
   "id": "ea151c9c",
   "metadata": {},
   "outputs": [
    {
     "name": "stdout",
     "output_type": "stream",
     "text": [
      "{'would': 0, 'you': 0, 'be': 0, 'then': 0, 'know': 0, 'locking': 0, 'this': 0, 'meeting': 0, 'in': 0, 'so': 0, 'that': 0, 'we': 0, \"don't\": 0, 'have': 0, 'more': 0, 'participants': 0, 'because': 0, 'once': 0, 'the': 0, 'division': 0, 'of': 0, 'team': 0, 'is': 0, 'done': 0, 'stuff': 0, 'like': 0, 'what': 0, 'does': 0, 'it': 0, 'ok': 0, 'if': 0, 'people': 0, 'join': 0, 'game': 0, 'and': 0, 'most': 0, 'about': 0, 'playing': 0, 'code': 0, 'names': 0, 'guys': 0, \"it's\": 0, 'a': 0, 'fun': 0, 'board': 0, 'just': 0, 'enjoy': 0, 'yourself': 0, 'understand': 0, 'will': 0, 'joining': 0, 'us': 0, 'cooperative': 0, 'society': 0}\n"
     ]
    }
   ],
   "source": [
    "# To count the number of times the unique words appear , first in the unique_word list\n",
    "word_dict = {} #An empty dictionary\n",
    "for word in result_str:\n",
    "    word_dict[word] = 0\n",
    "print(word_dict)"
   ]
  },
  {
   "cell_type": "code",
   "execution_count": 18,
   "id": "fc2e028b",
   "metadata": {},
   "outputs": [
    {
     "name": "stdout",
     "output_type": "stream",
     "text": [
      "The count for each word spoken number of times are:  {'would': 2, 'you': 3, 'be': 2, 'then': 1, 'know': 2, 'locking': 1, 'this': 1, 'meeting': 1, 'in': 3, 'so': 2, 'that': 3, 'we': 2, \"don't\": 1, 'have': 1, 'more': 2, 'participants': 1, 'because': 1, 'once': 1, 'the': 3, 'division': 1, 'of': 3, 'team': 1, 'is': 2, 'done': 1, 'stuff': 2, 'like': 2, 'what': 2, 'does': 1, 'it': 3, 'ok': 1, 'if': 2, 'people': 3, 'join': 1, 'game': 3, 'and': 1, 'most': 2, 'about': 1, 'playing': 1, 'code': 1, 'names': 1, 'guys': 1, \"it's\": 1, 'a': 1, 'fun': 1, 'board': 1, 'just': 1, 'enjoy': 1, 'yourself': 1, 'understand': 1, 'will': 1, 'joining': 1, 'us': 1, 'cooperative': 1, 'society': 1}\n"
     ]
    }
   ],
   "source": [
    "for word in result_str:\n",
    "    word_dict[word] = word_dict[word] + 1\n",
    "print(\"The count for each word spoken number of times are: \",word_dict)"
   ]
  },
  {
   "cell_type": "code",
   "execution_count": 19,
   "id": "0371694d",
   "metadata": {},
   "outputs": [],
   "source": [
    "cols= ['Repetition']\n",
    "count_df= pd.DataFrame.from_dict(word_dict,orient ='index',columns=cols)"
   ]
  },
  {
   "cell_type": "code",
   "execution_count": 20,
   "id": "3c38cdd5",
   "metadata": {},
   "outputs": [],
   "source": [
    "count_df= count_df.reset_index()"
   ]
  },
  {
   "cell_type": "code",
   "execution_count": 21,
   "id": "4d927416",
   "metadata": {},
   "outputs": [],
   "source": [
    "count_df= count_df.rename(columns = {'index':'Word'})"
   ]
  },
  {
   "cell_type": "code",
   "execution_count": 22,
   "id": "f8243294",
   "metadata": {},
   "outputs": [
    {
     "data": {
      "text/html": [
       "<div>\n",
       "<style scoped>\n",
       "    .dataframe tbody tr th:only-of-type {\n",
       "        vertical-align: middle;\n",
       "    }\n",
       "\n",
       "    .dataframe tbody tr th {\n",
       "        vertical-align: top;\n",
       "    }\n",
       "\n",
       "    .dataframe thead th {\n",
       "        text-align: right;\n",
       "    }\n",
       "</style>\n",
       "<table border=\"1\" class=\"dataframe\">\n",
       "  <thead>\n",
       "    <tr style=\"text-align: right;\">\n",
       "      <th></th>\n",
       "      <th>Word</th>\n",
       "      <th>Repetition</th>\n",
       "    </tr>\n",
       "  </thead>\n",
       "  <tbody>\n",
       "    <tr>\n",
       "      <th>0</th>\n",
       "      <td>would</td>\n",
       "      <td>2</td>\n",
       "    </tr>\n",
       "    <tr>\n",
       "      <th>1</th>\n",
       "      <td>you</td>\n",
       "      <td>3</td>\n",
       "    </tr>\n",
       "    <tr>\n",
       "      <th>2</th>\n",
       "      <td>be</td>\n",
       "      <td>2</td>\n",
       "    </tr>\n",
       "    <tr>\n",
       "      <th>3</th>\n",
       "      <td>then</td>\n",
       "      <td>1</td>\n",
       "    </tr>\n",
       "    <tr>\n",
       "      <th>4</th>\n",
       "      <td>know</td>\n",
       "      <td>2</td>\n",
       "    </tr>\n",
       "    <tr>\n",
       "      <th>5</th>\n",
       "      <td>locking</td>\n",
       "      <td>1</td>\n",
       "    </tr>\n",
       "    <tr>\n",
       "      <th>6</th>\n",
       "      <td>this</td>\n",
       "      <td>1</td>\n",
       "    </tr>\n",
       "    <tr>\n",
       "      <th>7</th>\n",
       "      <td>meeting</td>\n",
       "      <td>1</td>\n",
       "    </tr>\n",
       "    <tr>\n",
       "      <th>8</th>\n",
       "      <td>in</td>\n",
       "      <td>3</td>\n",
       "    </tr>\n",
       "    <tr>\n",
       "      <th>9</th>\n",
       "      <td>so</td>\n",
       "      <td>2</td>\n",
       "    </tr>\n",
       "    <tr>\n",
       "      <th>10</th>\n",
       "      <td>that</td>\n",
       "      <td>3</td>\n",
       "    </tr>\n",
       "    <tr>\n",
       "      <th>11</th>\n",
       "      <td>we</td>\n",
       "      <td>2</td>\n",
       "    </tr>\n",
       "    <tr>\n",
       "      <th>12</th>\n",
       "      <td>don't</td>\n",
       "      <td>1</td>\n",
       "    </tr>\n",
       "    <tr>\n",
       "      <th>13</th>\n",
       "      <td>have</td>\n",
       "      <td>1</td>\n",
       "    </tr>\n",
       "    <tr>\n",
       "      <th>14</th>\n",
       "      <td>more</td>\n",
       "      <td>2</td>\n",
       "    </tr>\n",
       "    <tr>\n",
       "      <th>15</th>\n",
       "      <td>participants</td>\n",
       "      <td>1</td>\n",
       "    </tr>\n",
       "    <tr>\n",
       "      <th>16</th>\n",
       "      <td>because</td>\n",
       "      <td>1</td>\n",
       "    </tr>\n",
       "    <tr>\n",
       "      <th>17</th>\n",
       "      <td>once</td>\n",
       "      <td>1</td>\n",
       "    </tr>\n",
       "    <tr>\n",
       "      <th>18</th>\n",
       "      <td>the</td>\n",
       "      <td>3</td>\n",
       "    </tr>\n",
       "    <tr>\n",
       "      <th>19</th>\n",
       "      <td>division</td>\n",
       "      <td>1</td>\n",
       "    </tr>\n",
       "    <tr>\n",
       "      <th>20</th>\n",
       "      <td>of</td>\n",
       "      <td>3</td>\n",
       "    </tr>\n",
       "    <tr>\n",
       "      <th>21</th>\n",
       "      <td>team</td>\n",
       "      <td>1</td>\n",
       "    </tr>\n",
       "    <tr>\n",
       "      <th>22</th>\n",
       "      <td>is</td>\n",
       "      <td>2</td>\n",
       "    </tr>\n",
       "    <tr>\n",
       "      <th>23</th>\n",
       "      <td>done</td>\n",
       "      <td>1</td>\n",
       "    </tr>\n",
       "    <tr>\n",
       "      <th>24</th>\n",
       "      <td>stuff</td>\n",
       "      <td>2</td>\n",
       "    </tr>\n",
       "    <tr>\n",
       "      <th>25</th>\n",
       "      <td>like</td>\n",
       "      <td>2</td>\n",
       "    </tr>\n",
       "    <tr>\n",
       "      <th>26</th>\n",
       "      <td>what</td>\n",
       "      <td>2</td>\n",
       "    </tr>\n",
       "    <tr>\n",
       "      <th>27</th>\n",
       "      <td>does</td>\n",
       "      <td>1</td>\n",
       "    </tr>\n",
       "    <tr>\n",
       "      <th>28</th>\n",
       "      <td>it</td>\n",
       "      <td>3</td>\n",
       "    </tr>\n",
       "    <tr>\n",
       "      <th>29</th>\n",
       "      <td>ok</td>\n",
       "      <td>1</td>\n",
       "    </tr>\n",
       "    <tr>\n",
       "      <th>30</th>\n",
       "      <td>if</td>\n",
       "      <td>2</td>\n",
       "    </tr>\n",
       "    <tr>\n",
       "      <th>31</th>\n",
       "      <td>people</td>\n",
       "      <td>3</td>\n",
       "    </tr>\n",
       "    <tr>\n",
       "      <th>32</th>\n",
       "      <td>join</td>\n",
       "      <td>1</td>\n",
       "    </tr>\n",
       "    <tr>\n",
       "      <th>33</th>\n",
       "      <td>game</td>\n",
       "      <td>3</td>\n",
       "    </tr>\n",
       "    <tr>\n",
       "      <th>34</th>\n",
       "      <td>and</td>\n",
       "      <td>1</td>\n",
       "    </tr>\n",
       "    <tr>\n",
       "      <th>35</th>\n",
       "      <td>most</td>\n",
       "      <td>2</td>\n",
       "    </tr>\n",
       "    <tr>\n",
       "      <th>36</th>\n",
       "      <td>about</td>\n",
       "      <td>1</td>\n",
       "    </tr>\n",
       "    <tr>\n",
       "      <th>37</th>\n",
       "      <td>playing</td>\n",
       "      <td>1</td>\n",
       "    </tr>\n",
       "    <tr>\n",
       "      <th>38</th>\n",
       "      <td>code</td>\n",
       "      <td>1</td>\n",
       "    </tr>\n",
       "    <tr>\n",
       "      <th>39</th>\n",
       "      <td>names</td>\n",
       "      <td>1</td>\n",
       "    </tr>\n",
       "    <tr>\n",
       "      <th>40</th>\n",
       "      <td>guys</td>\n",
       "      <td>1</td>\n",
       "    </tr>\n",
       "    <tr>\n",
       "      <th>41</th>\n",
       "      <td>it's</td>\n",
       "      <td>1</td>\n",
       "    </tr>\n",
       "    <tr>\n",
       "      <th>42</th>\n",
       "      <td>a</td>\n",
       "      <td>1</td>\n",
       "    </tr>\n",
       "    <tr>\n",
       "      <th>43</th>\n",
       "      <td>fun</td>\n",
       "      <td>1</td>\n",
       "    </tr>\n",
       "    <tr>\n",
       "      <th>44</th>\n",
       "      <td>board</td>\n",
       "      <td>1</td>\n",
       "    </tr>\n",
       "    <tr>\n",
       "      <th>45</th>\n",
       "      <td>just</td>\n",
       "      <td>1</td>\n",
       "    </tr>\n",
       "    <tr>\n",
       "      <th>46</th>\n",
       "      <td>enjoy</td>\n",
       "      <td>1</td>\n",
       "    </tr>\n",
       "    <tr>\n",
       "      <th>47</th>\n",
       "      <td>yourself</td>\n",
       "      <td>1</td>\n",
       "    </tr>\n",
       "    <tr>\n",
       "      <th>48</th>\n",
       "      <td>understand</td>\n",
       "      <td>1</td>\n",
       "    </tr>\n",
       "    <tr>\n",
       "      <th>49</th>\n",
       "      <td>will</td>\n",
       "      <td>1</td>\n",
       "    </tr>\n",
       "    <tr>\n",
       "      <th>50</th>\n",
       "      <td>joining</td>\n",
       "      <td>1</td>\n",
       "    </tr>\n",
       "    <tr>\n",
       "      <th>51</th>\n",
       "      <td>us</td>\n",
       "      <td>1</td>\n",
       "    </tr>\n",
       "    <tr>\n",
       "      <th>52</th>\n",
       "      <td>cooperative</td>\n",
       "      <td>1</td>\n",
       "    </tr>\n",
       "    <tr>\n",
       "      <th>53</th>\n",
       "      <td>society</td>\n",
       "      <td>1</td>\n",
       "    </tr>\n",
       "  </tbody>\n",
       "</table>\n",
       "</div>"
      ],
      "text/plain": [
       "            Word  Repetition\n",
       "0          would           2\n",
       "1            you           3\n",
       "2             be           2\n",
       "3           then           1\n",
       "4           know           2\n",
       "5        locking           1\n",
       "6           this           1\n",
       "7        meeting           1\n",
       "8             in           3\n",
       "9             so           2\n",
       "10          that           3\n",
       "11            we           2\n",
       "12         don't           1\n",
       "13          have           1\n",
       "14          more           2\n",
       "15  participants           1\n",
       "16       because           1\n",
       "17          once           1\n",
       "18           the           3\n",
       "19      division           1\n",
       "20            of           3\n",
       "21          team           1\n",
       "22            is           2\n",
       "23          done           1\n",
       "24         stuff           2\n",
       "25          like           2\n",
       "26          what           2\n",
       "27          does           1\n",
       "28            it           3\n",
       "29            ok           1\n",
       "30            if           2\n",
       "31        people           3\n",
       "32          join           1\n",
       "33          game           3\n",
       "34           and           1\n",
       "35          most           2\n",
       "36         about           1\n",
       "37       playing           1\n",
       "38          code           1\n",
       "39         names           1\n",
       "40          guys           1\n",
       "41          it's           1\n",
       "42             a           1\n",
       "43           fun           1\n",
       "44         board           1\n",
       "45          just           1\n",
       "46         enjoy           1\n",
       "47      yourself           1\n",
       "48    understand           1\n",
       "49          will           1\n",
       "50       joining           1\n",
       "51            us           1\n",
       "52   cooperative           1\n",
       "53       society           1"
      ]
     },
     "execution_count": 22,
     "metadata": {},
     "output_type": "execute_result"
    }
   ],
   "source": [
    "count_df"
   ]
  },
  {
   "cell_type": "markdown",
   "id": "0dd8684b",
   "metadata": {},
   "source": [
    "#### Counting the number of words spoken per minute"
   ]
  },
  {
   "cell_type": "code",
   "execution_count": 23,
   "id": "807efa04",
   "metadata": {},
   "outputs": [
    {
     "name": "stdout",
     "output_type": "stream",
     "text": [
      "Total number of words:  82\n"
     ]
    }
   ],
   "source": [
    "print(\"Total number of words: \",len(result_str))"
   ]
  },
  {
   "cell_type": "code",
   "execution_count": 24,
   "id": "a5498423",
   "metadata": {},
   "outputs": [
    {
     "name": "stdout",
     "output_type": "stream",
     "text": [
      "Total length of audio: 3.08 minutes \n"
     ]
    }
   ],
   "source": [
    "print(\"Total length of audio: 3.08 minutes \")"
   ]
  },
  {
   "cell_type": "code",
   "execution_count": 25,
   "id": "bf6d133d",
   "metadata": {},
   "outputs": [
    {
     "name": "stdout",
     "output_type": "stream",
     "text": [
      "Total number of words spoken per minute :  26.623376623376622\n"
     ]
    }
   ],
   "source": [
    "print(\"Total number of words spoken per minute : \",(len(result_str)/3.08))"
   ]
  },
  {
   "cell_type": "markdown",
   "id": "6e37c982",
   "metadata": {},
   "source": [
    "#### Approx total number of words spoken are 79 words per minute"
   ]
  },
  {
   "cell_type": "code",
   "execution_count": null,
   "id": "316c91d8",
   "metadata": {},
   "outputs": [],
   "source": []
  }
 ],
 "metadata": {
  "kernelspec": {
   "display_name": "Python 3",
   "language": "python",
   "name": "python3"
  },
  "language_info": {
   "codemirror_mode": {
    "name": "ipython",
    "version": 3
   },
   "file_extension": ".py",
   "mimetype": "text/x-python",
   "name": "python",
   "nbconvert_exporter": "python",
   "pygments_lexer": "ipython3",
   "version": "3.12.4"
  }
 },
 "nbformat": 4,
 "nbformat_minor": 5
}
